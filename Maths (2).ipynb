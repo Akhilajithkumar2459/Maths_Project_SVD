{
 "cells": [
  {
   "cell_type": "markdown",
   "metadata": {
    "id": "8AGi6p0ESrHf"
   },
   "source": [
    "Introduction\n",
    "\n",
    "Matrix factorization is a class of collaborative filtering algorithms used in recommender systems. Matrix factorization algorithms work by decomposing the user-item interaction matrix into the product of two lower dimensionality rectangular matrices.The idea behind matrix factorization is to represent users and items in a lower dimensional latent space. For the case here, the items represent movies\n",
    "\n",
    "Our aim is to fill in the blank rating values here. For users and movies to populate them, the weights of the latent features, that are supposed to be available, are found from the available data. Then, with these weights, an estimate is made for the empty rating values."
   ]
  },
  {
   "cell_type": "code",
   "execution_count": 1,
   "metadata": {
    "colab": {
     "base_uri": "https://localhost:8080/"
    },
    "id": "BB2hy0hEPFaq",
    "outputId": "8bd87dde-9e8f-4148-a53a-32ce6531ed7c"
   },
   "outputs": [
    {
     "name": "stdout",
     "output_type": "stream",
     "text": [
      "Requirement already satisfied: surprise in c:\\users\\akhil\\anaconda3\\lib\\site-packages (0.1)\n",
      "Requirement already satisfied: scikit-surprise in c:\\users\\akhil\\anaconda3\\lib\\site-packages (from surprise) (1.1.4)\n",
      "Requirement already satisfied: joblib>=1.2.0 in c:\\users\\akhil\\anaconda3\\lib\\site-packages (from scikit-surprise->surprise) (1.4.2)\n",
      "Requirement already satisfied: numpy>=1.19.5 in c:\\users\\akhil\\anaconda3\\lib\\site-packages (from scikit-surprise->surprise) (1.26.4)\n",
      "Requirement already satisfied: scipy>=1.6.0 in c:\\users\\akhil\\anaconda3\\lib\\site-packages (from scikit-surprise->surprise) (1.13.1)\n",
      "Requirement already satisfied: openpyxl in c:\\users\\akhil\\anaconda3\\lib\\site-packages (3.1.2)\n",
      "Requirement already satisfied: et-xmlfile in c:\\users\\akhil\\anaconda3\\lib\\site-packages (from openpyxl) (1.1.0)\n"
     ]
    }
   ],
   "source": [
    "!pip install surprise\n",
    "import pandas as pd\n",
    "!pip install openpyxl\n",
    "from surprise import Reader, SVD, Dataset, accuracy\n",
    "from surprise.model_selection import GridSearchCV, train_test_split, cross_validate\n",
    "pd.set_option('display.max_columns', None)"
   ]
  },
  {
   "cell_type": "code",
   "execution_count": 2,
   "metadata": {
    "colab": {
     "base_uri": "https://localhost:8080/",
     "height": 206
    },
    "id": "3PByDGqhPVYl",
    "outputId": "fdcf8384-07e9-495e-ffad-09f57ce733a8"
   },
   "outputs": [
    {
     "data": {
      "text/html": [
       "<div>\n",
       "<style scoped>\n",
       "    .dataframe tbody tr th:only-of-type {\n",
       "        vertical-align: middle;\n",
       "    }\n",
       "\n",
       "    .dataframe tbody tr th {\n",
       "        vertical-align: top;\n",
       "    }\n",
       "\n",
       "    .dataframe thead th {\n",
       "        text-align: right;\n",
       "    }\n",
       "</style>\n",
       "<table border=\"1\" class=\"dataframe\">\n",
       "  <thead>\n",
       "    <tr style=\"text-align: right;\">\n",
       "      <th></th>\n",
       "      <th>movieId</th>\n",
       "      <th>title</th>\n",
       "      <th>genres</th>\n",
       "      <th>userId</th>\n",
       "      <th>rating</th>\n",
       "      <th>timestamp</th>\n",
       "    </tr>\n",
       "  </thead>\n",
       "  <tbody>\n",
       "    <tr>\n",
       "      <th>0</th>\n",
       "      <td>1</td>\n",
       "      <td>Toy Story (1995)</td>\n",
       "      <td>Adventure|Animation|Children|Comedy|Fantasy</td>\n",
       "      <td>3.0</td>\n",
       "      <td>4.0</td>\n",
       "      <td>1999-12-11 13:36:47</td>\n",
       "    </tr>\n",
       "    <tr>\n",
       "      <th>1</th>\n",
       "      <td>1</td>\n",
       "      <td>Toy Story (1995)</td>\n",
       "      <td>Adventure|Animation|Children|Comedy|Fantasy</td>\n",
       "      <td>6.0</td>\n",
       "      <td>5.0</td>\n",
       "      <td>1997-03-13 17:50:52</td>\n",
       "    </tr>\n",
       "    <tr>\n",
       "      <th>2</th>\n",
       "      <td>1</td>\n",
       "      <td>Toy Story (1995)</td>\n",
       "      <td>Adventure|Animation|Children|Comedy|Fantasy</td>\n",
       "      <td>8.0</td>\n",
       "      <td>4.0</td>\n",
       "      <td>1996-06-05 13:37:51</td>\n",
       "    </tr>\n",
       "    <tr>\n",
       "      <th>3</th>\n",
       "      <td>1</td>\n",
       "      <td>Toy Story (1995)</td>\n",
       "      <td>Adventure|Animation|Children|Comedy|Fantasy</td>\n",
       "      <td>10.0</td>\n",
       "      <td>4.0</td>\n",
       "      <td>1999-11-25 02:44:47</td>\n",
       "    </tr>\n",
       "    <tr>\n",
       "      <th>4</th>\n",
       "      <td>1</td>\n",
       "      <td>Toy Story (1995)</td>\n",
       "      <td>Adventure|Animation|Children|Comedy|Fantasy</td>\n",
       "      <td>11.0</td>\n",
       "      <td>4.5</td>\n",
       "      <td>2009-01-02 01:13:41</td>\n",
       "    </tr>\n",
       "  </tbody>\n",
       "</table>\n",
       "</div>"
      ],
      "text/plain": [
       "   movieId             title                                       genres  \\\n",
       "0        1  Toy Story (1995)  Adventure|Animation|Children|Comedy|Fantasy   \n",
       "1        1  Toy Story (1995)  Adventure|Animation|Children|Comedy|Fantasy   \n",
       "2        1  Toy Story (1995)  Adventure|Animation|Children|Comedy|Fantasy   \n",
       "3        1  Toy Story (1995)  Adventure|Animation|Children|Comedy|Fantasy   \n",
       "4        1  Toy Story (1995)  Adventure|Animation|Children|Comedy|Fantasy   \n",
       "\n",
       "   userId  rating            timestamp  \n",
       "0     3.0     4.0  1999-12-11 13:36:47  \n",
       "1     6.0     5.0  1997-03-13 17:50:52  \n",
       "2     8.0     4.0  1996-06-05 13:37:51  \n",
       "3    10.0     4.0  1999-11-25 02:44:47  \n",
       "4    11.0     4.5  2009-01-02 01:13:41  "
      ]
     },
     "execution_count": 2,
     "metadata": {},
     "output_type": "execute_result"
    }
   ],
   "source": [
    "movie = pd.read_csv('movie.csv')\n",
    "rating = pd.read_csv('rating.csv')\n",
    "df = movie.merge(rating, how=\"left\", on=\"movieId\")\n",
    "df.head()"
   ]
  },
  {
   "cell_type": "markdown",
   "metadata": {
    "id": "RrTBF5Y8PdM7"
   },
   "source": [
    "##Step 1: Preparing the Data Set"
   ]
  },
  {
   "cell_type": "code",
   "execution_count": 5,
   "metadata": {
    "id": "zqHKE-65PXmv"
   },
   "outputs": [],
   "source": [
    "movie_ids = [130219, 356, 4422, 541]\n",
    "movies = [\"The Dark Knight (2011)\",\n",
    "          \"Cries and Whispers (Viskningar och rop) (1972)\",\n",
    "          \"Forrest Gump (1994)\",\n",
    "          \"Blade Runner (1982)\"]"
   ]
  },
  {
   "cell_type": "code",
   "execution_count": 7,
   "metadata": {
    "colab": {
     "base_uri": "https://localhost:8080/"
    },
    "id": "cMUJ5Z8WPhAv",
    "outputId": "e593db2c-0fa4-4ae7-8569-6669d9508a27"
   },
   "outputs": [
    {
     "data": {
      "text/plain": [
       "(97343, 6)"
      ]
     },
     "execution_count": 7,
     "metadata": {},
     "output_type": "execute_result"
    }
   ],
   "source": [
    "sample_df = df[df.movieId.isin(movie_ids)]\n",
    "sample_df.shape"
   ]
  },
  {
   "cell_type": "code",
   "execution_count": 9,
   "metadata": {
    "colab": {
     "base_uri": "https://localhost:8080/",
     "height": 206
    },
    "id": "SI_q7ebERG2v",
    "outputId": "12b2f4cf-e986-463b-951c-e935e0302ebb"
   },
   "outputs": [
    {
     "data": {
      "text/html": [
       "<div>\n",
       "<style scoped>\n",
       "    .dataframe tbody tr th:only-of-type {\n",
       "        vertical-align: middle;\n",
       "    }\n",
       "\n",
       "    .dataframe tbody tr th {\n",
       "        vertical-align: top;\n",
       "    }\n",
       "\n",
       "    .dataframe thead th {\n",
       "        text-align: right;\n",
       "    }\n",
       "</style>\n",
       "<table border=\"1\" class=\"dataframe\">\n",
       "  <thead>\n",
       "    <tr style=\"text-align: right;\">\n",
       "      <th></th>\n",
       "      <th>movieId</th>\n",
       "      <th>title</th>\n",
       "      <th>genres</th>\n",
       "      <th>userId</th>\n",
       "      <th>rating</th>\n",
       "      <th>timestamp</th>\n",
       "    </tr>\n",
       "  </thead>\n",
       "  <tbody>\n",
       "    <tr>\n",
       "      <th>2457839</th>\n",
       "      <td>356</td>\n",
       "      <td>Forrest Gump (1994)</td>\n",
       "      <td>Comedy|Drama|Romance|War</td>\n",
       "      <td>4.0</td>\n",
       "      <td>4.0</td>\n",
       "      <td>1996-08-24 09:28:42</td>\n",
       "    </tr>\n",
       "    <tr>\n",
       "      <th>2457840</th>\n",
       "      <td>356</td>\n",
       "      <td>Forrest Gump (1994)</td>\n",
       "      <td>Comedy|Drama|Romance|War</td>\n",
       "      <td>7.0</td>\n",
       "      <td>4.0</td>\n",
       "      <td>2002-01-16 19:02:55</td>\n",
       "    </tr>\n",
       "    <tr>\n",
       "      <th>2457841</th>\n",
       "      <td>356</td>\n",
       "      <td>Forrest Gump (1994)</td>\n",
       "      <td>Comedy|Drama|Romance|War</td>\n",
       "      <td>8.0</td>\n",
       "      <td>5.0</td>\n",
       "      <td>1996-06-05 13:44:19</td>\n",
       "    </tr>\n",
       "    <tr>\n",
       "      <th>2457842</th>\n",
       "      <td>356</td>\n",
       "      <td>Forrest Gump (1994)</td>\n",
       "      <td>Comedy|Drama|Romance|War</td>\n",
       "      <td>9.0</td>\n",
       "      <td>4.0</td>\n",
       "      <td>2001-07-01 20:26:38</td>\n",
       "    </tr>\n",
       "    <tr>\n",
       "      <th>2457843</th>\n",
       "      <td>356</td>\n",
       "      <td>Forrest Gump (1994)</td>\n",
       "      <td>Comedy|Drama|Romance|War</td>\n",
       "      <td>10.0</td>\n",
       "      <td>3.0</td>\n",
       "      <td>1999-11-25 02:32:02</td>\n",
       "    </tr>\n",
       "  </tbody>\n",
       "</table>\n",
       "</div>"
      ],
      "text/plain": [
       "         movieId                title                    genres  userId  \\\n",
       "2457839      356  Forrest Gump (1994)  Comedy|Drama|Romance|War     4.0   \n",
       "2457840      356  Forrest Gump (1994)  Comedy|Drama|Romance|War     7.0   \n",
       "2457841      356  Forrest Gump (1994)  Comedy|Drama|Romance|War     8.0   \n",
       "2457842      356  Forrest Gump (1994)  Comedy|Drama|Romance|War     9.0   \n",
       "2457843      356  Forrest Gump (1994)  Comedy|Drama|Romance|War    10.0   \n",
       "\n",
       "         rating            timestamp  \n",
       "2457839     4.0  1996-08-24 09:28:42  \n",
       "2457840     4.0  2002-01-16 19:02:55  \n",
       "2457841     5.0  1996-06-05 13:44:19  \n",
       "2457842     4.0  2001-07-01 20:26:38  \n",
       "2457843     3.0  1999-11-25 02:32:02  "
      ]
     },
     "execution_count": 9,
     "metadata": {},
     "output_type": "execute_result"
    }
   ],
   "source": [
    "sample_df.head()"
   ]
  },
  {
   "cell_type": "code",
   "execution_count": 13,
   "metadata": {
    "colab": {
     "base_uri": "https://localhost:8080/"
    },
    "id": "riGsnX1ARHQf",
    "outputId": "a5c7db7e-aa25-46b3-88c7-e4447339e8d4"
   },
   "outputs": [
    {
     "data": {
      "text/plain": [
       "(76918, 4)"
      ]
     },
     "execution_count": 13,
     "metadata": {},
     "output_type": "execute_result"
    }
   ],
   "source": [
    "user_movie_df = sample_df.pivot_table(index=[\"userId\"], columns=[\"title\"], values=\"rating\")\n",
    "user_movie_df.shape"
   ]
  },
  {
   "cell_type": "code",
   "execution_count": 15,
   "metadata": {
    "colab": {
     "base_uri": "https://localhost:8080/",
     "height": 255
    },
    "id": "UkvCttXmRMED",
    "outputId": "a36c6a91-0914-448e-fe72-a7acec1b52eb"
   },
   "outputs": [
    {
     "data": {
      "text/html": [
       "<div>\n",
       "<style scoped>\n",
       "    .dataframe tbody tr th:only-of-type {\n",
       "        vertical-align: middle;\n",
       "    }\n",
       "\n",
       "    .dataframe tbody tr th {\n",
       "        vertical-align: top;\n",
       "    }\n",
       "\n",
       "    .dataframe thead th {\n",
       "        text-align: right;\n",
       "    }\n",
       "</style>\n",
       "<table border=\"1\" class=\"dataframe\">\n",
       "  <thead>\n",
       "    <tr style=\"text-align: right;\">\n",
       "      <th>title</th>\n",
       "      <th>Blade Runner (1982)</th>\n",
       "      <th>Cries and Whispers (Viskningar och rop) (1972)</th>\n",
       "      <th>Forrest Gump (1994)</th>\n",
       "      <th>The Dark Knight (2011)</th>\n",
       "    </tr>\n",
       "    <tr>\n",
       "      <th>userId</th>\n",
       "      <th></th>\n",
       "      <th></th>\n",
       "      <th></th>\n",
       "      <th></th>\n",
       "    </tr>\n",
       "  </thead>\n",
       "  <tbody>\n",
       "    <tr>\n",
       "      <th>1.0</th>\n",
       "      <td>4.0</td>\n",
       "      <td>NaN</td>\n",
       "      <td>NaN</td>\n",
       "      <td>NaN</td>\n",
       "    </tr>\n",
       "    <tr>\n",
       "      <th>2.0</th>\n",
       "      <td>5.0</td>\n",
       "      <td>NaN</td>\n",
       "      <td>NaN</td>\n",
       "      <td>NaN</td>\n",
       "    </tr>\n",
       "    <tr>\n",
       "      <th>3.0</th>\n",
       "      <td>5.0</td>\n",
       "      <td>NaN</td>\n",
       "      <td>NaN</td>\n",
       "      <td>NaN</td>\n",
       "    </tr>\n",
       "    <tr>\n",
       "      <th>4.0</th>\n",
       "      <td>NaN</td>\n",
       "      <td>NaN</td>\n",
       "      <td>4.0</td>\n",
       "      <td>NaN</td>\n",
       "    </tr>\n",
       "    <tr>\n",
       "      <th>7.0</th>\n",
       "      <td>NaN</td>\n",
       "      <td>NaN</td>\n",
       "      <td>4.0</td>\n",
       "      <td>NaN</td>\n",
       "    </tr>\n",
       "  </tbody>\n",
       "</table>\n",
       "</div>"
      ],
      "text/plain": [
       "title   Blade Runner (1982)  Cries and Whispers (Viskningar och rop) (1972)  \\\n",
       "userId                                                                        \n",
       "1.0                     4.0                                             NaN   \n",
       "2.0                     5.0                                             NaN   \n",
       "3.0                     5.0                                             NaN   \n",
       "4.0                     NaN                                             NaN   \n",
       "7.0                     NaN                                             NaN   \n",
       "\n",
       "title   Forrest Gump (1994)  The Dark Knight (2011)  \n",
       "userId                                               \n",
       "1.0                     NaN                     NaN  \n",
       "2.0                     NaN                     NaN  \n",
       "3.0                     NaN                     NaN  \n",
       "4.0                     4.0                     NaN  \n",
       "7.0                     4.0                     NaN  "
      ]
     },
     "execution_count": 15,
     "metadata": {},
     "output_type": "execute_result"
    }
   ],
   "source": [
    "user_movie_df.head()"
   ]
  },
  {
   "cell_type": "code",
   "execution_count": 17,
   "metadata": {
    "id": "TrM1-VFGRO0l"
   },
   "outputs": [],
   "source": [
    "reader = Reader(rating_scale=(1, 5))"
   ]
  },
  {
   "cell_type": "code",
   "execution_count": 19,
   "metadata": {
    "id": "MShhp8oxRXcb"
   },
   "outputs": [],
   "source": [
    "data = Dataset.load_from_df(sample_df[['userId', 'movieId', 'rating']], reader)"
   ]
  },
  {
   "cell_type": "markdown",
   "metadata": {
    "id": "dnRJ_ie8RbgO"
   },
   "source": [
    "#Step 2: Modelling"
   ]
  },
  {
   "cell_type": "code",
   "execution_count": 21,
   "metadata": {
    "colab": {
     "base_uri": "https://localhost:8080/"
    },
    "id": "mb7CX8-RRY5Y",
    "outputId": "67c683e5-558b-431e-84fe-9e77196c9eac"
   },
   "outputs": [
    {
     "data": {
      "text/plain": [
       "<surprise.prediction_algorithms.matrix_factorization.SVD at 0x182e41851c0>"
      ]
     },
     "execution_count": 21,
     "metadata": {},
     "output_type": "execute_result"
    }
   ],
   "source": [
    "trainset, testset = train_test_split(data, test_size=.25)\n",
    "svd_model = SVD()\n",
    "svd_model.fit(trainset)"
   ]
  },
  {
   "cell_type": "code",
   "execution_count": 23,
   "metadata": {
    "colab": {
     "base_uri": "https://localhost:8080/"
    },
    "id": "rOABJS0fReZY",
    "outputId": "72b43830-a214-4692-b221-f7e014c29a03"
   },
   "outputs": [
    {
     "name": "stdout",
     "output_type": "stream",
     "text": [
      "RMSE: 0.9349\n"
     ]
    },
    {
     "data": {
      "text/plain": [
       "0.9348564168050575"
      ]
     },
     "execution_count": 23,
     "metadata": {},
     "output_type": "execute_result"
    }
   ],
   "source": [
    "predictions = svd_model.test(testset)\n",
    "\n",
    "accuracy.rmse(predictions)"
   ]
  },
  {
   "cell_type": "code",
   "execution_count": 25,
   "metadata": {
    "colab": {
     "base_uri": "https://localhost:8080/"
    },
    "id": "sFVIRUrsRx1A",
    "outputId": "89376b77-9a42-4692-afb9-6c4d87cc515d"
   },
   "outputs": [
    {
     "name": "stdout",
     "output_type": "stream",
     "text": [
      "Evaluating RMSE, MAE of algorithm SVD on 5 split(s).\n",
      "\n",
      "                  Fold 1  Fold 2  Fold 3  Fold 4  Fold 5  Mean    Std     \n",
      "RMSE (testset)    0.9343  0.9347  0.9315  0.9334  0.9420  0.9352  0.0036  \n",
      "MAE (testset)     0.7239  0.7229  0.7217  0.7219  0.7277  0.7236  0.0022  \n",
      "Fit time          1.70    1.68    1.74    1.69    1.74    1.71    0.03    \n",
      "Test time         0.38    0.41    0.24    0.36    0.23    0.33    0.07    \n",
      "user: 12.0       item: 213        r_ui = None   est = 4.06   {'was_impossible': False}\n"
     ]
    },
    {
     "data": {
      "text/plain": [
       "Prediction(uid=12.0, iid=213, r_ui=None, est=4.062953451043339, details={'was_impossible': False})"
      ]
     },
     "execution_count": 25,
     "metadata": {},
     "output_type": "execute_result"
    }
   ],
   "source": [
    "cross_validate(svd_model, data, measures=['RMSE', 'MAE'], cv=5, verbose=True)\n",
    "\n",
    "svd_model.predict(uid=12.0, iid=213, verbose=True)"
   ]
  },
  {
   "cell_type": "code",
   "execution_count": 26,
   "metadata": {},
   "outputs": [
    {
     "name": "stdout",
     "output_type": "stream",
     "text": [
      "user: 1.0        item: 541        r_ui = None   est = 4.24   {'was_impossible': False}\n"
     ]
    },
    {
     "data": {
      "text/plain": [
       "Prediction(uid=1.0, iid=541, r_ui=None, est=4.238569060995527, details={'was_impossible': False})"
      ]
     },
     "execution_count": 26,
     "metadata": {},
     "output_type": "execute_result"
    }
   ],
   "source": [
    "svd_model.predict(uid=1.0, iid=541, verbose=True)"
   ]
  },
  {
   "cell_type": "markdown",
   "metadata": {
    "id": "ODiHreo1SJeJ"
   },
   "source": [
    "Step 3: Model Tuning"
   ]
  },
  {
   "cell_type": "code",
   "execution_count": 27,
   "metadata": {
    "id": "4nhzxQVCR5ef"
   },
   "outputs": [
    {
     "name": "stderr",
     "output_type": "stream",
     "text": [
      "[Parallel(n_jobs=-1)]: Using backend LokyBackend with 12 concurrent workers.\n",
      "[Parallel(n_jobs=-1)]: Done   2 out of  12 | elapsed:    1.2s remaining:    6.5s\n",
      "[Parallel(n_jobs=-1)]: Done  12 out of  12 | elapsed:    2.5s finished\n"
     ]
    },
    {
     "data": {
      "text/plain": [
       "0.9313252770800768"
      ]
     },
     "execution_count": 27,
     "metadata": {},
     "output_type": "execute_result"
    }
   ],
   "source": [
    "param_grid = {'n_epochs': [5, 10], 'lr_all': [0.002, 0.005]}\n",
    "\n",
    "gs = GridSearchCV(SVD,\n",
    "                  param_grid,\n",
    "                  measures=['rmse', 'mae'],\n",
    "                  cv=3,\n",
    "                  n_jobs=-1,\n",
    "                  joblib_verbose=True)\n",
    "\n",
    "gs.fit(data)\n",
    "gs.best_score['rmse']"
   ]
  },
  {
   "cell_type": "code",
   "execution_count": 28,
   "metadata": {
    "id": "elJGfWlNSMgf"
   },
   "outputs": [
    {
     "data": {
      "text/plain": [
       "{'n_epochs': 5, 'lr_all': 0.002}"
      ]
     },
     "execution_count": 28,
     "metadata": {},
     "output_type": "execute_result"
    }
   ],
   "source": [
    "gs.best_params['rmse']"
   ]
  },
  {
   "cell_type": "markdown",
   "metadata": {
    "id": "hkUT-3wJSTEn"
   },
   "source": [
    "Step 4: Final Model and Prediction"
   ]
  },
  {
   "cell_type": "code",
   "execution_count": 29,
   "metadata": {
    "id": "yC1Y-aN1SRX4"
   },
   "outputs": [
    {
     "name": "stdout",
     "output_type": "stream",
     "text": [
      "user: 1.0        item: 1          r_ui = None   est = 4.06   {'was_impossible': False}\n"
     ]
    },
    {
     "data": {
      "text/plain": [
       "Prediction(uid=1.0, iid=1, r_ui=None, est=4.06027583063687, details={'was_impossible': False})"
      ]
     },
     "execution_count": 29,
     "metadata": {},
     "output_type": "execute_result"
    }
   ],
   "source": [
    "svd_model = SVD(**gs.best_params['rmse'])\n",
    "\n",
    "data = data.build_full_trainset()\n",
    "svd_model.fit(data)\n",
    "\n",
    "svd_model.predict(uid=1.0, iid=1, verbose=True)"
   ]
  },
  {
   "cell_type": "code",
   "execution_count": 32,
   "metadata": {
    "id": "HkY1WNq_DVay"
   },
   "outputs": [
    {
     "name": "stdout",
     "output_type": "stream",
     "text": [
      "Pickle file 'model_data.pkl' created successfully.\n"
     ]
    }
   ],
   "source": [
    "import pickle\n",
    "with open('svd_model.pkl', 'wb') as file:\n",
    "    pickle.dump(svd_model, file)\n",
    "\n",
    "print(\"Pickle file 'model_data.pkl' created successfully.\")"
   ]
  }
 ],
 "metadata": {
  "colab": {
   "provenance": []
  },
  "kernelspec": {
   "display_name": "Python 3 (ipykernel)",
   "language": "python",
   "name": "python3"
  },
  "language_info": {
   "codemirror_mode": {
    "name": "ipython",
    "version": 3
   },
   "file_extension": ".py",
   "mimetype": "text/x-python",
   "name": "python",
   "nbconvert_exporter": "python",
   "pygments_lexer": "ipython3",
   "version": "3.12.3"
  }
 },
 "nbformat": 4,
 "nbformat_minor": 4
}
